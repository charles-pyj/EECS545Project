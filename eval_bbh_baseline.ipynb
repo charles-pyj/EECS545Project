{
 "cells": [
  {
   "cell_type": "code",
   "execution_count": null,
   "metadata": {},
   "outputs": [],
   "source": [
    "import datasets, transformers"
   ]
  },
  {
   "cell_type": "code",
   "execution_count": null,
   "metadata": {},
   "outputs": [],
   "source": [
    "dataset_pth = \"./dataset/bbh/big_bench_hard.py\"\n",
    "\n",
    "# avaliable configs\n",
    "bbh_configs = datasets.get_dataset_config_names(dataset_pth)\n",
    "\n",
    "print(bbh_configs)\n",
    "\n",
    "# load bbh dataset from local script\n",
    "bbh_datasets = dict(zip(bbh_configs, [datasets.load_dataset(dataset_pth, v)['train'] for v in bbh_configs]))\n",
    "\n",
    "# WTF is the card data?"
   ]
  },
  {
   "cell_type": "code",
   "execution_count": null,
   "metadata": {},
   "outputs": [],
   "source": [
    "# a dict for all tasks' dataset\n",
    "bbh_datasets"
   ]
  },
  {
   "cell_type": "code",
   "execution_count": null,
   "metadata": {},
   "outputs": [],
   "source": [
    "# exam a single piece\n",
    "bbh_datasets['boolean_expressions'][0]"
   ]
  },
  {
   "cell_type": "code",
   "execution_count": null,
   "metadata": {},
   "outputs": [],
   "source": [
    "# TODO: pull models and load tokenizer here, I think only instruct models can be used"
   ]
  }
 ],
 "metadata": {
  "kernelspec": {
   "display_name": "hf",
   "language": "python",
   "name": "python3"
  },
  "language_info": {
   "codemirror_mode": {
    "name": "ipython",
    "version": 3
   },
   "file_extension": ".py",
   "mimetype": "text/x-python",
   "name": "python",
   "nbconvert_exporter": "python",
   "pygments_lexer": "ipython3",
   "version": "3.11.8"
  }
 },
 "nbformat": 4,
 "nbformat_minor": 2
}
